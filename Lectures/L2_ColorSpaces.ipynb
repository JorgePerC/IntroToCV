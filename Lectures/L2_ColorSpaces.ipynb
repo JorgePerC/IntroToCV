{
 "metadata": {
  "language_info": {
   "codemirror_mode": {
    "name": "ipython",
    "version": 3
   },
   "file_extension": ".py",
   "mimetype": "text/x-python",
   "name": "python",
   "nbconvert_exporter": "python",
   "pygments_lexer": "ipython3",
   "version": 3
  },
  "orig_nbformat": 2
 },
 "nbformat": 4,
 "nbformat_minor": 2,
 "cells": [
  {
   "source": [
    "# What's color??\n",
    "\n",
    "Color is light (electromagnetic waves) moving through space at different frequencies. Check Bibliography :D-\n",
    "\n",
    "# How computers interpret color?\n",
    "\n",
    "Well, it depends. There are different ways in which computers can represent colors. This has many reasons, but the main one is limitations on the technology used. \n",
    "\n",
    "For example:\n",
    "## RGB VS CMY\n",
    "Both RGB and CMY are widely used color spaces. But one is used to represent colors on a screen, and the other one on a physical paper.\n",
    "\n",
    "RGB's technology, wich stands for (Red, Green and Blue), focuses on mixing different wavelenghts until creating the desired color. If all of their basic elements are combined, you can create white. CMY (Cyan, Magenta and Yellow), works in a similar way, to achieve differt colors you mix them, but when the three of them are mixed, instead of white,you get black. Kinda what you did on kindergarden. \n",
    "\n",
    "There are several color spaces, and it its important that you know the limitations and advantages to the one you are using. \n",
    "\n",
    "# More on RGB\n",
    "\n",
    "**Important:** RGB is know as BGR in OpenCV.\n",
    "\n",
    "I believe RGB is the most common nowadays. Since most of our screens work with it. However, there are also \"different\" RGB \"formats\". \n",
    "\n",
    "I'm actually refering to color depth. This indicates the amount of precision by which a color can be stored and displayed. As you may know, in the process of converting an analog signal into a digital one, some information gets lost. Since digital is an aproximation of the analog signal, the fidelity depends on how much precision you can capture (and reproduce) from the signal, if you do it with little precisicion (2 bits) is GrayScale, you might not have the expected result. Or perhaps with a ton of precision (16+ bits), you'll be processing way too much data, which might even not provide distinguishable differences for the human eye. \n",
    "\n",
    "Later, you'll see that at processing, we usually simplify the colorScale, to further reduce processing time, or better identifying colors.  \n",
    "\n",
    "Now, onto _da code._\n",
    "\n",
    "## The alfa value:\n",
    "TODO: INVESTIGAR."
   ],
   "cell_type": "markdown",
   "metadata": {}
  },
  {
   "cell_type": "code",
   "execution_count": null,
   "metadata": {},
   "outputs": [],
   "source": [
    "import cv2\n",
    "print(\"Imported OpenCV\")"
   ]
  },
  {
   "cell_type": "code",
   "execution_count": null,
   "metadata": {},
   "outputs": [],
   "source": [
    "# First we import an image\n",
    "img = cv2.imread(\"../imgs/penguins.jpg\")"
   ]
  },
  {
   "source": [
    "# Change color Spaces on OpenCV.\n",
    "If you want to convert from one format to the other, you'll use `cv2.cvtColor(...)`. The second argument shall express the format your image has and the one you want to covert. Example: `BGR` + `2` + `GRAY`.\n",
    "\n",
    "## More Color spaces in OpenCV:\n",
    "\n",
    "https://docs.opencv.org/3.4/d8/d01/group__imgproc__color__conversions.html#ga4e0972be5de079fed4e3a10e24ef5ef0\n",
    "\n",
    "## Math details:\n",
    "https://docs.opencv.org/3.4/de/d25/imgproc_color_conversions.html#color_convert_rgb_xyz\n",
    "\n"
   ],
   "cell_type": "markdown",
   "metadata": {}
  },
  {
   "cell_type": "code",
   "execution_count": null,
   "metadata": {},
   "outputs": [],
   "source": [
    "# Change colorSpace\n",
    "# Colorspace RGB -> GRAY\n",
    "imgGray = cv2.cvtColor(img, cv2.COLOR_BGR2GRAY)\n",
    "\n",
    "# Then we show it\n",
    "cv2.imshow(\"GrayScale\", imgGray)\n",
    "\n",
    "cv2.waitKey(0)\n",
    "cv2.destroyAllWindows()"
   ]
  }
 ]
}