{
 "metadata": {
  "language_info": {
   "codemirror_mode": {
    "name": "ipython",
    "version": 3
   },
   "file_extension": ".py",
   "mimetype": "text/x-python",
   "name": "python",
   "nbconvert_exporter": "python",
   "pygments_lexer": "ipython3",
   "version": "3.8.5-final"
  },
  "orig_nbformat": 2,
  "kernelspec": {
   "name": "python3",
   "display_name": "Python 3.8.5 32-bit",
   "metadata": {
    "interpreter": {
     "hash": "d9c1491ed9bb3d0282d5adf43a26b1b27657306a617a94d613c74ecd5d0f2729"
    }
   }
  }
 },
 "nbformat": 4,
 "nbformat_minor": 2,
 "cells": [
  {
   "source": [
    "# Libraries\n",
    "First of all, we import the libraries. In this case, we only need OpenCV. We will be using version 2, due to newest versions having errors running on the Jetson Nano. At leas at the time of this file's creation.  "
   ],
   "cell_type": "markdown",
   "metadata": {}
  },
  {
   "cell_type": "code",
   "execution_count": null,
   "metadata": {},
   "outputs": [],
   "source": [
    "import cv2\n",
    "print (\"OpenCV imported\")"
   ]
  },
  {
   "source": [
    "# Load images\n",
    "\n",
    "I've realized that all of the basic functions with images start with  `im ` +  `whatever `. This one is no exception. \n",
    "It is important to note that this is not a function to _show_ the image. Only to load it on to the program.\n"
   ],
   "cell_type": "markdown",
   "metadata": {}
  },
  {
   "cell_type": "code",
   "execution_count": null,
   "metadata": {},
   "outputs": [],
   "source": [
    "# Argument is a string to the file's location. Bruh\n",
    "# Remember, it should have the file's extention (jpg. png, etc.)\n",
    "img = cv2.imread(\"../imgs/penguins.jpg\")"
   ]
  },
  {
   "source": [
    "# Show images\n",
    "Again, this is one of those basic functions related to images, so it follows the same schematic as the past one.\n",
    "\n",
    "* Remember, computers do things reaaaly quick, you not seeing the image does not mean the program is not showing it. **Each** time you show an image, you'll probably want the program to stop temporarely. \n",
    "\n",
    "* To pause the program:  `cv2.waitKey(0)`. A big asterisl on this function. It's primary objective is to expect a _keypress_ and register an event. The argument is to represent the time in miliseconds to register this event, a bit more of this later. **If** let at _0_, the time will be infinite (or when you close the image's tab). \n",
    "\n",
    "* An alternative to the following funtion is using its matplotLib alternative. But... too many libraries to my and your computer's memory.  `plt.imshow(gray_image, cmap='gray')`.\n",
    "\n",
    "* **Aditional documentation:** https://docs.opencv.org/3.1.0/dc/d2e/tutorial_py_image_display.html\n",
    "\n",
    "* Expect differences on Python Notebook. \n"
   ],
   "cell_type": "markdown",
   "metadata": {}
  },
  {
   "cell_type": "code",
   "execution_count": null,
   "metadata": {},
   "outputs": [],
   "source": [
    "# Create a window with the image on it \n",
    "cv2.imshow(\"WindowName\", img)\n",
    "\n",
    "# Shows the img until the delay (0) in milis has passed\n",
    "# However, if the delay is 0, then we have infinite delay\n",
    "cv2.waitKey(0)"
   ]
  },
  {
   "source": [
    "# Show video\n",
    "As you probably know, a video is actually a series of still images played one after the other. Knowing this, all we have to do is iterate over them. But first, load the video file.\n",
    "\n",
    "https://docs.opencv.org/master/dd/d43/tutorial_py_video_display.html\n",
    "\n",
    "* **Expantion** of `cv2.waitKey(n)`. As mentioned erlier, this is designed to read key events. If you what to register de event, instead of only waiting, add: `& 0xFF`. You can save it in a variable, like this: `keyPressed = cv2.waitKey(n) & 0xFF`.\n",
    "* If you'll be doing it in a video, I recommend having a small delay, to reduce latency, which might be crucial on live feed. \n",
    "* If you want to know how to map the keys pressed: \n",
    "    * \"Special\" keys: http://pklaus.github.io/HHG-Analysis-Python/helpers.html#module-keycode\n",
    "    * Normal keys:  https://stackoverflow.com/questions/14494101/using-other-keys-for-the-waitkey-function-of-opencv"
   ],
   "cell_type": "markdown",
   "metadata": {}
  },
  {
   "cell_type": "code",
   "execution_count": null,
   "metadata": {},
   "outputs": [],
   "source": [
    "#-------------------- Show video \n",
    "\n",
    "# Reads the video file\n",
    "cap = cv2.VideoCapture(\"../imgs/Owl.mp4\") #\n",
    "\n",
    "# To actually show it, we should display it frame by frame.\n",
    "# We'll do a loop. You can also put: while cap.isOpened():\n",
    "while True:\n",
    "    # Method tells you if the image was read sucessfully and the actual img\n",
    "    readSuccess, frame = cap.read()\n",
    "    \n",
    "    # Show frame\n",
    "    cv2.imshow(\"Video Feed\", frame)\n",
    "\n",
    "    # To stop the video before it ends. \n",
    "    # Only when q is pressed.\n",
    "    if cv2.waitKey(1) & 0xFF == ord (\"q\"):\n",
    "        break\n",
    "# In case you used cap.isOpened() at while:\n",
    "# cap.release()"
   ]
  },
  {
   "source": [
    "# Close Windows: \n",
    "It's not technically necesary, as long as there is no `cv2.waitKey(n)` following. But just to be sure everything is dead, destroy everything. "
   ],
   "cell_type": "markdown",
   "metadata": {}
  },
  {
   "cell_type": "code",
   "execution_count": null,
   "metadata": {},
   "outputs": [],
   "source": [
    "# Closes all windows\n",
    "cv2.destroyAllWindows()\n",
    "\n",
    "print(\"Done\")"
   ]
  }
 ]
}