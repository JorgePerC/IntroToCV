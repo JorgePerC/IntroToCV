{
 "metadata": {
  "language_info": {
   "codemirror_mode": {
    "name": "ipython",
    "version": 3
   },
   "file_extension": ".py",
   "mimetype": "text/x-python",
   "name": "python",
   "nbconvert_exporter": "python",
   "pygments_lexer": "ipython3",
   "version": 3
  },
  "orig_nbformat": 2
 },
 "nbformat": 4,
 "nbformat_minor": 2,
 "cells": [
  {
   "cell_type": "code",
   "execution_count": null,
   "metadata": {},
   "outputs": [],
   "source": [
    "import cv2\n",
    "print (\"OpenCV imported\")"
   ]
  },
  {
   "source": [
    "# What's a pipeline:\n",
    "Se traduce a: tubería, xd.\n",
    "\n",
    "A pipeline is...\n",
    "\n",
    "Hmmm... No sé"
   ],
   "cell_type": "markdown",
   "metadata": {}
  },
  {
   "cell_type": "code",
   "execution_count": null,
   "metadata": {},
   "outputs": [],
   "source": [
    "# Funtion to tell the video streamer the format of the video we want. \n",
    "# Details are passed as parameters. \n",
    "# Check: \"test_RPi_Webcam.py\" to see full explanation.  \n",
    "def gstreamer_pipeline(\n",
    "    capture_width=1280,\n",
    "    capture_height=720,\n",
    "    display_width=1280,\n",
    "    display_height=720,\n",
    "    framerate=60,\n",
    "    flip_method=0, ):\n",
    "    return (\n",
    "        \"nvarguscamerasrc ! \"\n",
    "        \"video/x-raw(memory:NVMM), \"\n",
    "        \"width=(int)%d, height=(int)%d, \"\n",
    "        \"format=(string)NV12, framerate=(fraction)%d/1 ! \"\n",
    "        \"nvvidconv flip-method=%d ! \"\n",
    "        \"video/x-raw, width=(int)%d, height=(int)%d, format=(string)BGRx ! \"\n",
    "        \"videoconvert ! \"\n",
    "        \"video/x-raw, format=(string)BGR ! appsink\"\n",
    "        % (\n",
    "            capture_width,\n",
    "            capture_height,\n",
    "            framerate,\n",
    "            flip_method,\n",
    "            display_width,\n",
    "            display_height,\n",
    "        )\n",
    "    )"
   ]
  },
  {
   "source": [
    "## If you have an USB camera: "
   ],
   "cell_type": "markdown",
   "metadata": {}
  },
  {
   "cell_type": "code",
   "execution_count": null,
   "metadata": {},
   "outputs": [],
   "source": [
    "# This will work only with a USB camera\n",
    "# It will automatically connecto to the main one if number 0\n",
    "# If several cameras, just increment by one to find the desired one.\n",
    "\n",
    "capture = cv2.VideoCapture(0)"
   ]
  },
  {
   "source": [
    "### Edit video settings:\n",
    "\n",
    "Check the different parameters at: https://docs.opencv.org/master/d8/dfe/classcv_1_1VideoCapture.html#a8c6d8c2d37505b5ca61ffd4bb54e9a7c\n"
   ],
   "cell_type": "markdown",
   "metadata": {}
  },
  {
   "cell_type": "code",
   "execution_count": null,
   "metadata": {},
   "outputs": [],
   "source": [
    "#To set video dimentions\n",
    "capure.set(3,640)\n",
    "capture.set(4,480)\n",
    "\n",
    "#Change exposure\n",
    "capture.set(10, 500)"
   ]
  },
  {
   "source": [
    "## With rPi Webcam. Aka. CSI Camera.\n",
    "\n",
    "TODO: investigar las diferencias entre usar una y la otra. Además del puerto, lol. "
   ],
   "cell_type": "markdown",
   "metadata": {}
  },
  {
   "cell_type": "code",
   "execution_count": null,
   "metadata": {},
   "outputs": [],
   "source": [
    "# cap.set(n,n2) will not work with this camera. \n",
    "# Use gstreamer arguments\n",
    "capture = cv2.VideoCapture(gstreamer_pipeline(flip_method=0), cv2.CAP_GSTREAMER)\n",
    "        #framerate=10, display_width = 640, display_height =  48"
   ]
  },
  {
   "source": [
    "# Show video feed.\n",
    "\n",
    "I like using 720p @ 30fps. It's much smoother, and still provides good information. \n",
    "Check myPrograms/camera.py for a camera :D"
   ],
   "cell_type": "markdown",
   "metadata": {}
  },
  {
   "cell_type": "code",
   "execution_count": null,
   "metadata": {},
   "outputs": [],
   "source": [
    "while True:\n",
    "    succ, img = capture.read()\n",
    "    cv2.imshow(\"CSI Camera\", img)\n",
    "    keyCode = cv2.waitKey(30) & 0xFF\n",
    "    # Stop the program on the ESC key\n",
    "    if keyCode == 27:\n",
    "        break\n"
   ]
  },
  {
   "cell_type": "code",
   "execution_count": null,
   "metadata": {},
   "outputs": [],
   "source": [
    "cv2.destroyAllWindows()"
   ]
  }
 ]
}