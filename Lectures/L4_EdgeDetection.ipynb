{
 "metadata": {
  "language_info": {
   "codemirror_mode": {
    "name": "ipython",
    "version": 3
   },
   "file_extension": ".py",
   "mimetype": "text/x-python",
   "name": "python",
   "nbconvert_exporter": "python",
   "pygments_lexer": "ipython3",
   "version": 3
  },
  "orig_nbformat": 2
 },
 "nbformat": 4,
 "nbformat_minor": 2,
 "cells": [
  {
   "cell_type": "code",
   "execution_count": null,
   "metadata": {},
   "outputs": [],
   "source": [
    "import cv2\n",
    "print(\"Imported OpenCV\")\n",
    "import numpy as np\n",
    "print(\"Imported Numpy\")"
   ]
  },
  {
   "cell_type": "code",
   "execution_count": null,
   "metadata": {},
   "outputs": [],
   "source": [
    "# Read image\n",
    "img = cv2.imread(\"imgs/penguins.jpg\")\n",
    "\n",
    "#Blur with Gaussian function\n",
    "imgBlur = cv2.GaussianBlur(img, (7,7), 0)\n",
    "                        \n",
    "#Edge detection with Canny func\n",
    "                        # Threshold values\n",
    "imgCanny = cv2.Canny(imgBlur, 50,70)\n",
    "\n",
    "# To make the borders THICK Bois\n",
    "kernel = np.ones((5,5), np.uint8)\n",
    "    # more iterations -> thicker\n",
    "imgDialation = cv2.dilate(imgCanny, kernel, iterations = 1)\n",
    "\n",
    "# To make borders thiner\n",
    "imgEroded = cv2.erode(imgDialation, kernel, iterations= 2 )\n",
    "\n",
    "cv2.imshow(\"Blured\", imgBlur)\n",
    "cv2.imshow(\"Borders\", imgCanny)\n",
    "cv2.imshow(\"Dilation\", imgDialation)\n",
    "cv2.imshow(\"Eroded\", imgEroded)"
   ]
  },
  {
   "source": [
    "# Detect edges:\n",
    "\n",
    "In images where you have good definition, you might get a lot of lines, to avoid this, we smooth out the image. Avoiding false positives in the way. "
   ],
   "cell_type": "markdown",
   "metadata": {}
  }
 ]
}