{
 "metadata": {
  "language_info": {
   "codemirror_mode": {
    "name": "ipython",
    "version": 3
   },
   "file_extension": ".py",
   "mimetype": "text/x-python",
   "name": "python",
   "nbconvert_exporter": "python",
   "pygments_lexer": "ipython3",
   "version": 3
  },
  "orig_nbformat": 2
 },
 "nbformat": 4,
 "nbformat_minor": 2,
 "cells": [
  {
   "cell_type": "code",
   "execution_count": null,
   "metadata": {},
   "outputs": [],
   "source": [
    "import cv2\n",
    "import numpy as np"
   ]
  },
  {
   "cell_type": "code",
   "execution_count": null,
   "metadata": {},
   "outputs": [],
   "source": [
    "img = cv2.imread(\"../imgs/penguins.jpg\")"
   ]
  },
  {
   "source": [
    "# Gaussian Blur\n",
    "\n",
    "## What's a Kernel?\n",
    "\n",
    "A kernel is a matrix of values which can modify a section of an image. It can have different types of effects depending on the values used. It's usually smaller than the image to process. Mathematically, its a kind of average. \n",
    "\n",
    "All kernels should be positive odd numbers, so you have a center pixel (The one that will be processed).\n",
    "\n",
    "## Kernel convolution\n",
    "It's the process by wich a kernel is applied to a whole image. https://www.youtube.com/watch?v=C_zFhWdM4ic\n",
    "\n",
    "## Gaussian blur:\n",
    "It prioritases the pixels at the center of the kernel, by doing a weithing with a bell curve (tries to have the median at center, by giving it more relevance at the moment of weighting).\n",
    "\n",
    "## More on blurs:\n",
    "https://docs.opencv.org/master/d4/d13/tutorial_py_filtering.html"
   ],
   "cell_type": "markdown",
   "metadata": {}
  },
  {
   "cell_type": "code",
   "execution_count": null,
   "metadata": {},
   "outputs": [],
   "source": [
    "#Blur with Gaussian function\n",
    "                                #KernelSize\n",
    "                                # It has to be odd numbers, and both should be the same\n",
    "imgBlur = cv2.GaussianBlur(img, (7,7), 0)"
   ]
  },
  {
   "cell_type": "code",
   "execution_count": null,
   "metadata": {},
   "outputs": [],
   "source": [
    "# Display images\n",
    "cv2.imshow(\"Normal\", img)\n",
    "cv2.imshow(\"Blured\", imgBlur)\n",
    "\n",
    "cv2.waitKey(0)"
   ]
  },
  {
   "cell_type": "code",
   "execution_count": null,
   "metadata": {},
   "outputs": [],
   "source": [
    "# :D\n",
    "cv2.destroyAllWindows()"
   ]
  }
 ]
}