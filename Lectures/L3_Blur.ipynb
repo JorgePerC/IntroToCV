{
 "metadata": {
  "language_info": {
   "codemirror_mode": {
    "name": "ipython",
    "version": 3
   },
   "file_extension": ".py",
   "mimetype": "text/x-python",
   "name": "python",
   "nbconvert_exporter": "python",
   "pygments_lexer": "ipython3",
   "version": 3
  },
  "orig_nbformat": 2
 },
 "nbformat": 4,
 "nbformat_minor": 2,
 "cells": [
  {
   "cell_type": "code",
   "execution_count": null,
   "metadata": {},
   "outputs": [],
   "source": [
    "import cv2\n",
    "import numpy as np"
   ]
  },
  {
   "cell_type": "code",
   "execution_count": null,
   "metadata": {},
   "outputs": [],
   "source": [
    "img = cv2.imread(\"../imgs/penguins.jpg\")"
   ]
  },
  {
   "source": [
    "# Gaussian Blur\n",
    "\n",
    "## What's a Kernel?"
   ],
   "cell_type": "markdown",
   "metadata": {}
  },
  {
   "cell_type": "code",
   "execution_count": null,
   "metadata": {},
   "outputs": [],
   "source": [
    "#Blur with Gaussian function\n",
    "                                #KernelSize\n",
    "                                # It has to be odd numbers, and both should be the same\n",
    "imgBlur = cv2.GaussianBlur(img, (7,7), 0)"
   ]
  },
  {
   "cell_type": "code",
   "execution_count": null,
   "metadata": {},
   "outputs": [],
   "source": [
    "# Display imags\n",
    "cv2.imshow(\"Normal\", img)\n",
    "cv2.imshow(\"Blured\", imgBlur)\n",
    "\n",
    "cv2.waitKey(0)"
   ]
  },
  {
   "cell_type": "code",
   "execution_count": null,
   "metadata": {},
   "outputs": [],
   "source": [
    "# :D\n",
    "cv2.destroyAllWindows()"
   ]
  }
 ]
}